{
 "cells": [
  {
   "cell_type": "markdown",
   "id": "46dffc41",
   "metadata": {},
   "source": [
    "This notebook is meant to discover the library LightGraphs that will be used for the project, as well as get a little experience in manipulating graphs."
   ]
  },
  {
   "cell_type": "code",
   "execution_count": null,
   "id": "cbd049cd",
   "metadata": {},
   "outputs": [],
   "source": [
    "# TO RUN ONCE\n",
    "using Pkg\n",
    "Pkg.activate(\".\")\n",
    "Pkg.resolve()"
   ]
  },
  {
   "cell_type": "code",
   "execution_count": null,
   "id": "9c655a68",
   "metadata": {},
   "outputs": [],
   "source": [
    "# import packages\n",
    "using LightGraphs\n",
    "using GraphPlot"
   ]
  },
  {
   "cell_type": "markdown",
   "id": "a816a7fe",
   "metadata": {},
   "source": [
    "Read the LightGraphs tutorial : https://nbviewer.org/github/JuliaGraphs/JuliaGraphsTutorials/blob/master/Basics.ipynb\n",
    "\n",
    "**Question 0**: Explain how the 3D airplane was made, that is to say how its vertices and edges were defined, as well as its general shape."
   ]
  },
  {
   "cell_type": "code",
   "execution_count": 1,
   "id": "4c92ea92",
   "metadata": {},
   "outputs": [],
   "source": [
    "# explanation"
   ]
  },
  {
   "cell_type": "markdown",
   "id": "236305fa",
   "metadata": {},
   "source": [
    "Look at the help for function **inneighbors**."
   ]
  },
  {
   "cell_type": "code",
   "execution_count": null,
   "id": "7a5674ff",
   "metadata": {},
   "outputs": [],
   "source": [
    "# help for function inneighbors"
   ]
  },
  {
   "cell_type": "markdown",
   "id": "48f77976",
   "metadata": {},
   "source": [
    "Here is a simple graph that will be used to test the functions you code in this notebook."
   ]
  },
  {
   "cell_type": "code",
   "execution_count": null,
   "id": "c22308a5",
   "metadata": {},
   "outputs": [],
   "source": [
    "toulouse_neigh = barabasi_albert(1000, 1)"
   ]
  },
  {
   "cell_type": "markdown",
   "id": "0ce57b2c",
   "metadata": {},
   "source": [
    "Function **gplot** allows to plot a graph, with **nodefillc** a vector giving the color of each vertex. For some versions of jupyter notebook the plot inside the notebook is not done correctly, thus functions **draw** and **PNG** are used to save the plot in a .png image."
   ]
  },
  {
   "cell_type": "code",
   "execution_count": null,
   "id": "abddfcf3",
   "metadata": {},
   "outputs": [],
   "source": [
    "nodecolor = [colorant\"lightseagreen\"]\n",
    "#gplot(toulouse_neigh,nodefillc=nodecolor)\n",
    "draw(PNG(\"toulouse_neigh.png\", 100cm, 100cm), gplot(toulouse_neigh,nodefillc=nodecolor))"
   ]
  },
  {
   "cell_type": "markdown",
   "id": "01e1fe78",
   "metadata": {},
   "source": [
    "**Question 1**: Write function **mean_degree** that computes the mean degree of the vertices of a graph. What is the mean degree of vertices of *toulouse_neigh* ? (expected answer: 1.998)."
   ]
  },
  {
   "cell_type": "code",
   "execution_count": null,
   "id": "d2e326ad",
   "metadata": {},
   "outputs": [],
   "source": [
    "function mean_degree(graph)\n",
    "    \"\"\"Compute the mean degree of a graph\n",
    "    \n",
    "    PARAMS\n",
    "        graph (LightGraphs): graph\n",
    "    \n",
    "    RETURN\n",
    "        mean_degree (Float64): mean degree of vertices of graph\"\"\"\n",
    "    # TODO\n",
    "end"
   ]
  },
  {
   "cell_type": "code",
   "execution_count": null,
   "id": "dbb18553",
   "metadata": {},
   "outputs": [],
   "source": [
    "# test on toulouse_neigh"
   ]
  },
  {
   "cell_type": "markdown",
   "id": "5967f8ee",
   "metadata": {},
   "source": [
    "**Question 2**: Write a function **random_simple_graph** that creates a simple graph with m vertices and n edges. It must throw an error if too much edges are asked for the number of vertices."
   ]
  },
  {
   "cell_type": "code",
   "execution_count": null,
   "id": "c58a87f8",
   "metadata": {},
   "outputs": [],
   "source": [
    "function random_simple_graph(graph, m, n)\n",
    "    \"\"\"Create a random simple graph with m vertices and n edges\n",
    "    A test must throw an error if there is too much edges for the number of vertices\n",
    "    \n",
    "    PARAMS\n",
    "        graph (LightGraphs): graph\n",
    "        m (Int64): number of vertices of the graph to create\n",
    "        n (Int64): number of edges of the graph to create\n",
    "    \n",
    "    RETURN\n",
    "        G (LightGraphs): random simple graph with m vertices and n edges\"\"\"\n",
    "    # TODO\n",
    "end"
   ]
  },
  {
   "cell_type": "code",
   "execution_count": null,
   "id": "51baf620",
   "metadata": {},
   "outputs": [],
   "source": [
    "# test random_simple_graph here"
   ]
  },
  {
   "cell_type": "markdown",
   "id": "27ff00f8",
   "metadata": {},
   "source": [
    "**Question 3**: Write function **connected_comp** that computes the connected components of a graph. Hint: you can start by a function computing the connected component of a vertex s of the graph. How many connected components does *toulouse_neigh* have ? (expected answer : 1)"
   ]
  },
  {
   "cell_type": "code",
   "execution_count": null,
   "id": "5ab8857f",
   "metadata": {},
   "outputs": [],
   "source": [
    "function connected_comp(graph)\n",
    "    \"\"\"Compute the connected components of a graph\n",
    "    \n",
    "    PARAMS\n",
    "        graph (LightGraphs): graph\n",
    "    \n",
    "    RETURN\n",
    "        component_list (Array{Int64,1}): list with each element the set of vertices indices\n",
    "            of g that compose the connected component\"\"\"\n",
    "    # TODO\n",
    "end"
   ]
  },
  {
   "cell_type": "code",
   "execution_count": null,
   "id": "b3d83f69",
   "metadata": {},
   "outputs": [],
   "source": [
    "# test on toulouse_neigh"
   ]
  },
  {
   "cell_type": "markdown",
   "id": "150e67a4",
   "metadata": {},
   "source": [
    "Test **connected_comp** on a non connected graph of your choice."
   ]
  },
  {
   "cell_type": "code",
   "execution_count": null,
   "id": "653d40c2",
   "metadata": {},
   "outputs": [],
   "source": [
    "# test on a non connected graph"
   ]
  },
  {
   "cell_type": "markdown",
   "id": "7b273311",
   "metadata": {},
   "source": [
    "It is the end of this little tutorial on graphs. You can start the project on the notebook **graph21-22**"
   ]
  }
 ],
 "metadata": {
  "kernelspec": {
   "display_name": "julia 1.4.2",
   "language": "julia",
   "name": "julia-1.4"
  },
  "language_info": {
   "file_extension": ".jl",
   "mimetype": "application/julia",
   "name": "julia",
   "version": "1.4.2"
  }
 },
 "nbformat": 4,
 "nbformat_minor": 5
}
